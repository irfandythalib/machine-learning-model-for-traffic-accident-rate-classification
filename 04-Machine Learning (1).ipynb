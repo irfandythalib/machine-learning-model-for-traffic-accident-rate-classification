{
 "cells": [
  {
   "cell_type": "code",
   "execution_count": 1,
   "metadata": {
    "ExecuteTime": {
     "end_time": "2022-06-18T15:34:25.989051Z",
     "start_time": "2022-06-18T15:34:00.716447Z"
    }
   },
   "outputs": [],
   "source": [
    "import csv\n",
    "from sklearn.model_selection import train_test_split\n",
    "from sklearn.model_selection import cross_val_score\n",
    "\n",
    "from sklearn import tree\n",
    "from sklearn import svm\n",
    "from sklearn.neural_network import MLPClassifier\n",
    "from sklearn.naive_bayes import GaussianNB\n",
    "from sklearn.naive_bayes import MultinomialNB\n",
    "from sklearn.naive_bayes import BernoulliNB\n",
    "\n",
    "import pandas as pd\n",
    "import matplotlib.pyplot as plt\n",
    "\n",
    "target = 'dataset-untuk-machine-learning.csv'\n",
    "dataset = pd.read_csv('dataset-untuk-machine-learning.csv')\n",
    "\n"
   ]
  },
  {
   "cell_type": "code",
   "execution_count": 2,
   "metadata": {
    "ExecuteTime": {
     "end_time": "2022-06-18T15:34:38.789476Z",
     "start_time": "2022-06-18T15:34:38.779477Z"
    }
   },
   "outputs": [],
   "source": [
    "with open(target,'r') as csvFile:\n",
    "    csvReader = csv.reader(csvFile, delimiter=',')\n",
    "    next(csvReader)\n",
    "    X = []\n",
    "    y = []\n",
    "    for row in csvReader:\n",
    "        X.append([int(row[7]),int(row[8]),int(row[9]),int(row[12]),int(row[13])])\n",
    "        y.append(int(row[1]))"
   ]
  },
  {
   "cell_type": "code",
   "execution_count": 3,
   "metadata": {
    "ExecuteTime": {
     "end_time": "2022-06-18T15:34:38.897149Z",
     "start_time": "2022-06-18T15:34:38.792476Z"
    }
   },
   "outputs": [],
   "source": [
    "a_train, a_test, b_train, b_test = train_test_split(X, y, test_size=0.33, random_state=42)"
   ]
  },
  {
   "cell_type": "code",
   "execution_count": 4,
   "metadata": {
    "ExecuteTime": {
     "end_time": "2022-06-18T15:34:40.770060Z",
     "start_time": "2022-06-18T15:34:38.899150Z"
    }
   },
   "outputs": [
    {
     "name": "stderr",
     "output_type": "stream",
     "text": [
      "c:\\users\\fandy\\appdata\\local\\programs\\python\\python37\\lib\\site-packages\\sklearn\\model_selection\\_split.py:667: UserWarning: The least populated class in y has only 4 members, which is less than n_splits=5.\n",
      "  % (min_groups, self.n_splits)), UserWarning)\n",
      "c:\\users\\fandy\\appdata\\local\\programs\\python\\python37\\lib\\site-packages\\sklearn\\neural_network\\_multilayer_perceptron.py:470: ConvergenceWarning: lbfgs failed to converge (status=1):\n",
      "STOP: TOTAL NO. of ITERATIONS REACHED LIMIT.\n",
      "\n",
      "Increase the number of iterations (max_iter) or scale the data as shown in:\n",
      "    https://scikit-learn.org/stable/modules/preprocessing.html\n",
      "  self.n_iter_ = _check_optimize_result(\"lbfgs\", opt_res, self.max_iter)\n",
      "c:\\users\\fandy\\appdata\\local\\programs\\python\\python37\\lib\\site-packages\\sklearn\\neural_network\\_multilayer_perceptron.py:470: ConvergenceWarning: lbfgs failed to converge (status=1):\n",
      "STOP: TOTAL NO. of ITERATIONS REACHED LIMIT.\n",
      "\n",
      "Increase the number of iterations (max_iter) or scale the data as shown in:\n",
      "    https://scikit-learn.org/stable/modules/preprocessing.html\n",
      "  self.n_iter_ = _check_optimize_result(\"lbfgs\", opt_res, self.max_iter)\n",
      "c:\\users\\fandy\\appdata\\local\\programs\\python\\python37\\lib\\site-packages\\sklearn\\neural_network\\_multilayer_perceptron.py:470: ConvergenceWarning: lbfgs failed to converge (status=1):\n",
      "STOP: TOTAL NO. of ITERATIONS REACHED LIMIT.\n",
      "\n",
      "Increase the number of iterations (max_iter) or scale the data as shown in:\n",
      "    https://scikit-learn.org/stable/modules/preprocessing.html\n",
      "  self.n_iter_ = _check_optimize_result(\"lbfgs\", opt_res, self.max_iter)\n"
     ]
    },
    {
     "name": "stdout",
     "output_type": "stream",
     "text": [
      "NN\n",
      "Hasil :  [0.93  0.92  0.93  0.925 0.925]\n",
      "Mean :  0.9259999999999999\n",
      "Max :  0.93\n"
     ]
    },
    {
     "name": "stderr",
     "output_type": "stream",
     "text": [
      "c:\\users\\fandy\\appdata\\local\\programs\\python\\python37\\lib\\site-packages\\sklearn\\neural_network\\_multilayer_perceptron.py:470: ConvergenceWarning: lbfgs failed to converge (status=1):\n",
      "STOP: TOTAL NO. of ITERATIONS REACHED LIMIT.\n",
      "\n",
      "Increase the number of iterations (max_iter) or scale the data as shown in:\n",
      "    https://scikit-learn.org/stable/modules/preprocessing.html\n",
      "  self.n_iter_ = _check_optimize_result(\"lbfgs\", opt_res, self.max_iter)\n"
     ]
    }
   ],
   "source": [
    "# Neural Net\n",
    "nnClassifier = MLPClassifier(solver='lbfgs', alpha=1e-5, hidden_layer_sizes=(10,), random_state=1)\n",
    "scores_nnClassifier = cross_val_score(nnClassifier, X, y, cv=5, scoring='accuracy')\n",
    "print(\"NN\")\n",
    "print(\"Hasil : \", scores_nnClassifier)\n",
    "print(\"Mean : \", scores_nnClassifier.mean())\n",
    "print(\"Max : \", scores_nnClassifier.max())"
   ]
  },
  {
   "cell_type": "code",
   "execution_count": 5,
   "metadata": {
    "ExecuteTime": {
     "end_time": "2022-06-18T15:34:41.037247Z",
     "start_time": "2022-06-18T15:34:40.772059Z"
    }
   },
   "outputs": [
    {
     "name": "stderr",
     "output_type": "stream",
     "text": [
      "c:\\users\\fandy\\appdata\\local\\programs\\python\\python37\\lib\\site-packages\\sklearn\\model_selection\\_split.py:667: UserWarning: The least populated class in y has only 4 members, which is less than n_splits=5.\n",
      "  % (min_groups, self.n_splits)), UserWarning)\n"
     ]
    },
    {
     "name": "stdout",
     "output_type": "stream",
     "text": [
      "Decision Tree\n",
      "Hasil :  [0.93  0.93  0.93  0.925 0.91 ]\n",
      "Mean :  0.925\n",
      "Max :  0.93\n"
     ]
    }
   ],
   "source": [
    "# decision tree\n",
    "treeClassifier = tree.DecisionTreeClassifier()\n",
    "scores_treeClassifier = cross_val_score(treeClassifier, X, y, cv=5, scoring='accuracy')\n",
    "print(\"Decision Tree\")\n",
    "print(\"Hasil : \", scores_treeClassifier)\n",
    "print(\"Mean : \", scores_treeClassifier.mean())\n",
    "print(\"Max : \", scores_treeClassifier.max())"
   ]
  },
  {
   "cell_type": "code",
   "execution_count": 6,
   "metadata": {
    "ExecuteTime": {
     "end_time": "2022-06-18T15:34:41.239516Z",
     "start_time": "2022-06-18T15:34:41.039249Z"
    }
   },
   "outputs": [
    {
     "name": "stdout",
     "output_type": "stream",
     "text": [
      "SVM"
     ]
    },
    {
     "name": "stderr",
     "output_type": "stream",
     "text": [
      "c:\\users\\fandy\\appdata\\local\\programs\\python\\python37\\lib\\site-packages\\sklearn\\model_selection\\_split.py:667: UserWarning: The least populated class in y has only 4 members, which is less than n_splits=5.\n",
      "  % (min_groups, self.n_splits)), UserWarning)\n"
     ]
    },
    {
     "name": "stdout",
     "output_type": "stream",
     "text": [
      "\n",
      "Hasil :  [0.93  0.93  0.93  0.925 0.925]\n",
      "Mean :  0.9279999999999999\n",
      "Max :  0.93\n"
     ]
    }
   ],
   "source": [
    "# SVM\n",
    "svmClassifier = svm.SVC(kernel='linear', probability=True, gamma=0.0001)\n",
    "scores_svmClassifier = cross_val_score(svmClassifier, X, y, cv=5, scoring='accuracy')\n",
    "\n",
    "print(\"SVM\")\n",
    "print(\"Hasil : \", scores_svmClassifier)\n",
    "print(\"Mean : \", scores_svmClassifier.mean())\n",
    "print(\"Max : \", scores_svmClassifier.max())"
   ]
  },
  {
   "cell_type": "code",
   "execution_count": 7,
   "metadata": {
    "ExecuteTime": {
     "end_time": "2022-06-18T15:34:41.270560Z",
     "start_time": "2022-06-18T15:34:41.241518Z"
    }
   },
   "outputs": [
    {
     "name": "stdout",
     "output_type": "stream",
     "text": [
      "GNB\n",
      "Hasil :  [0.03  0.715 0.02  0.08  0.02 ]\n",
      "Mean :  0.173\n",
      "Max :  0.715\n"
     ]
    },
    {
     "name": "stderr",
     "output_type": "stream",
     "text": [
      "c:\\users\\fandy\\appdata\\local\\programs\\python\\python37\\lib\\site-packages\\sklearn\\model_selection\\_split.py:667: UserWarning: The least populated class in y has only 4 members, which is less than n_splits=5.\n",
      "  % (min_groups, self.n_splits)), UserWarning)\n"
     ]
    }
   ],
   "source": [
    "# Naive Bayes GNB\n",
    "klasifikasi_set_gaussNB = GaussianNB()\n",
    "scores_gaussNB = cross_val_score(klasifikasi_set_gaussNB, X, y, cv=5, scoring='accuracy')\n",
    "print(\"GNB\")\n",
    "print(\"Hasil : \", scores_gaussNB)\n",
    "print(\"Mean : \", scores_gaussNB.mean())\n",
    "print(\"Max : \", scores_gaussNB.max())"
   ]
  }
 ],
 "metadata": {
  "kernelspec": {
   "display_name": "Python 3",
   "language": "python",
   "name": "python3"
  },
  "language_info": {
   "codemirror_mode": {
    "name": "ipython",
    "version": 3
   },
   "file_extension": ".py",
   "mimetype": "text/x-python",
   "name": "python",
   "nbconvert_exporter": "python",
   "pygments_lexer": "ipython3",
   "version": "3.7.7"
  }
 },
 "nbformat": 4,
 "nbformat_minor": 2
}
